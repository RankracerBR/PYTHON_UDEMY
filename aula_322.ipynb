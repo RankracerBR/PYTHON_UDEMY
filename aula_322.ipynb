{
 "cells": [
  {
   "cell_type": "markdown",
   "id": "9f0e4212-d60b-4c8a-9214-37e55c04e735",
   "metadata": {},
   "source": [
    "# Esse é o meu título\n",
    "Essa linha cria uma variável `a`."
   ]
  },
  {
   "cell_type": "code",
   "execution_count": 1,
   "id": "c012eadb-6ec8-46b5-9430-0d87609e1bad",
   "metadata": {},
   "outputs": [],
   "source": [
    "a = 2"
   ]
  },
  {
   "cell_type": "code",
   "execution_count": 2,
   "id": "5d91e213-b28b-4d4b-8ad4-28d29144229d",
   "metadata": {},
   "outputs": [
    {
     "data": {
      "text/plain": [
       "2"
      ]
     },
     "execution_count": 2,
     "metadata": {},
     "output_type": "execute_result"
    }
   ],
   "source": [
    "a"
   ]
  },
  {
   "cell_type": "markdown",
   "id": "bde9ac3d-770a-46de-8725-649867527d65",
   "metadata": {},
   "source": [
    "Essa linha tem o valor da variável `a` em dobro"
   ]
  },
  {
   "cell_type": "code",
   "execution_count": 3,
   "id": "ced89ac9-2aa5-46a1-a3ec-ed05b99f4f2c",
   "metadata": {},
   "outputs": [
    {
     "data": {
      "text/plain": [
       "4"
      ]
     },
     "execution_count": 3,
     "metadata": {},
     "output_type": "execute_result"
    }
   ],
   "source": [
    "b = a * 2\n",
    "b"
   ]
  }
 ],
 "metadata": {
  "kernelspec": {
   "display_name": "Python 3 (ipykernel)",
   "language": "python",
   "name": "python3"
  },
  "language_info": {
   "codemirror_mode": {
    "name": "ipython",
    "version": 3
   },
   "file_extension": ".py",
   "mimetype": "text/x-python",
   "name": "python",
   "nbconvert_exporter": "python",
   "pygments_lexer": "ipython3",
   "version": "3.11.5"
  }
 },
 "nbformat": 4,
 "nbformat_minor": 5
}
